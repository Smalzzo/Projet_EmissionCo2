{
  "cells": [
    {
      "cell_type": "markdown",
      "metadata": {
        "id": "D_Hg-Jn4J_qy"
      },
      "source": [
        "# Analyse Exploratoire"
      ]
    },
    {
      "cell_type": "code",
      "source": [
        "from google.colab import drive\n",
        "drive.mount('/content/drive')"
      ],
      "metadata": {
        "colab": {
          "base_uri": "https://localhost:8080/"
        },
        "id": "LNGzEVhCKlND",
        "outputId": "065aac5a-5127-441f-c6ed-1162eb0e817e"
      },
      "execution_count": 1,
      "outputs": [
        {
          "output_type": "stream",
          "name": "stdout",
          "text": [
            "Mounted at /content/drive\n"
          ]
        }
      ]
    },
    {
      "cell_type": "markdown",
      "metadata": {
        "id": "wFoAbdjyJ_q3"
      },
      "source": [
        "### Import des modules"
      ]
    },
    {
      "cell_type": "code",
      "execution_count": 3,
      "metadata": {
        "id": "grBPskavJ_q4"
      },
      "outputs": [],
      "source": [
        "import pandas as pd\n",
        "import matplotlib.pyplot as plt\n",
        "import seaborn as sns"
      ]
    },
    {
      "cell_type": "markdown",
      "metadata": {
        "id": "J_U-7gwWJ_q5"
      },
      "source": [
        "### Analyse Exploratoire"
      ]
    },
    {
      "cell_type": "code",
      "execution_count": 5,
      "metadata": {
        "id": "dko6OsQJJ_q6"
      },
      "outputs": [],
      "source": [
        "building_consumption = pd.read_csv('/content/drive/MyDrive/Projet_EmissionCo2/2016_Building_Energy_Benchmarking.csv')"
      ]
    },
    {
      "cell_type": "code",
      "execution_count": 6,
      "metadata": {
        "colab": {
          "base_uri": "https://localhost:8080/",
          "height": 377
        },
        "id": "d8c6e_KlJ_q7",
        "outputId": "f6c7fcde-d61e-4f55-b8a8-b49df2ac2839"
      },
      "outputs": [
        {
          "output_type": "execute_result",
          "data": {
            "text/plain": [
              "   OSEBuildingID  DataYear    BuildingType PrimaryPropertyType  \\\n",
              "0              1      2016  NonResidential               Hotel   \n",
              "1              2      2016  NonResidential               Hotel   \n",
              "2              3      2016  NonResidential               Hotel   \n",
              "3              5      2016  NonResidential               Hotel   \n",
              "4              8      2016  NonResidential               Hotel   \n",
              "\n",
              "                  PropertyName          Address     City State  ZipCode  \\\n",
              "0         Mayflower park hotel    405 Olive way  Seattle    WA  98101.0   \n",
              "1              Paramount Hotel  724 Pine street  Seattle    WA  98101.0   \n",
              "2      5673-The Westin Seattle  1900 5th Avenue  Seattle    WA  98101.0   \n",
              "3                    HOTEL MAX   620 STEWART ST  Seattle    WA  98101.0   \n",
              "4  WARWICK SEATTLE HOTEL (ID8)    401 LENORA ST  Seattle    WA  98121.0   \n",
              "\n",
              "  TaxParcelIdentificationNumber  ...  Electricity(kWh) Electricity(kBtu)  \\\n",
              "0                    0659000030  ...      1.156514e+06         3946027.0   \n",
              "1                    0659000220  ...      9.504252e+05         3242851.0   \n",
              "2                    0659000475  ...      1.451544e+07        49526664.0   \n",
              "3                    0659000640  ...      8.115253e+05         2768924.0   \n",
              "4                    0659000970  ...      1.573449e+06         5368607.0   \n",
              "\n",
              "   NaturalGas(therms)  NaturalGas(kBtu)  DefaultData  Comments  \\\n",
              "0         12764.52930         1276453.0        False       NaN   \n",
              "1         51450.81641         5145082.0        False       NaN   \n",
              "2         14938.00000         1493800.0        False       NaN   \n",
              "3         18112.13086         1811213.0        False       NaN   \n",
              "4         88039.98438         8803998.0        False       NaN   \n",
              "\n",
              "   ComplianceStatus  Outlier  TotalGHGEmissions  GHGEmissionsIntensity  \n",
              "0         Compliant      NaN             249.98                   2.83  \n",
              "1         Compliant      NaN             295.86                   2.86  \n",
              "2         Compliant      NaN            2089.28                   2.19  \n",
              "3         Compliant      NaN             286.43                   4.67  \n",
              "4         Compliant      NaN             505.01                   2.88  \n",
              "\n",
              "[5 rows x 46 columns]"
            ],
            "text/html": [
              "\n",
              "  <div id=\"df-08134394-cec8-449a-b1a8-643bcf7f904e\" class=\"colab-df-container\">\n",
              "    <div>\n",
              "<style scoped>\n",
              "    .dataframe tbody tr th:only-of-type {\n",
              "        vertical-align: middle;\n",
              "    }\n",
              "\n",
              "    .dataframe tbody tr th {\n",
              "        vertical-align: top;\n",
              "    }\n",
              "\n",
              "    .dataframe thead th {\n",
              "        text-align: right;\n",
              "    }\n",
              "</style>\n",
              "<table border=\"1\" class=\"dataframe\">\n",
              "  <thead>\n",
              "    <tr style=\"text-align: right;\">\n",
              "      <th></th>\n",
              "      <th>OSEBuildingID</th>\n",
              "      <th>DataYear</th>\n",
              "      <th>BuildingType</th>\n",
              "      <th>PrimaryPropertyType</th>\n",
              "      <th>PropertyName</th>\n",
              "      <th>Address</th>\n",
              "      <th>City</th>\n",
              "      <th>State</th>\n",
              "      <th>ZipCode</th>\n",
              "      <th>TaxParcelIdentificationNumber</th>\n",
              "      <th>...</th>\n",
              "      <th>Electricity(kWh)</th>\n",
              "      <th>Electricity(kBtu)</th>\n",
              "      <th>NaturalGas(therms)</th>\n",
              "      <th>NaturalGas(kBtu)</th>\n",
              "      <th>DefaultData</th>\n",
              "      <th>Comments</th>\n",
              "      <th>ComplianceStatus</th>\n",
              "      <th>Outlier</th>\n",
              "      <th>TotalGHGEmissions</th>\n",
              "      <th>GHGEmissionsIntensity</th>\n",
              "    </tr>\n",
              "  </thead>\n",
              "  <tbody>\n",
              "    <tr>\n",
              "      <th>0</th>\n",
              "      <td>1</td>\n",
              "      <td>2016</td>\n",
              "      <td>NonResidential</td>\n",
              "      <td>Hotel</td>\n",
              "      <td>Mayflower park hotel</td>\n",
              "      <td>405 Olive way</td>\n",
              "      <td>Seattle</td>\n",
              "      <td>WA</td>\n",
              "      <td>98101.0</td>\n",
              "      <td>0659000030</td>\n",
              "      <td>...</td>\n",
              "      <td>1.156514e+06</td>\n",
              "      <td>3946027.0</td>\n",
              "      <td>12764.52930</td>\n",
              "      <td>1276453.0</td>\n",
              "      <td>False</td>\n",
              "      <td>NaN</td>\n",
              "      <td>Compliant</td>\n",
              "      <td>NaN</td>\n",
              "      <td>249.98</td>\n",
              "      <td>2.83</td>\n",
              "    </tr>\n",
              "    <tr>\n",
              "      <th>1</th>\n",
              "      <td>2</td>\n",
              "      <td>2016</td>\n",
              "      <td>NonResidential</td>\n",
              "      <td>Hotel</td>\n",
              "      <td>Paramount Hotel</td>\n",
              "      <td>724 Pine street</td>\n",
              "      <td>Seattle</td>\n",
              "      <td>WA</td>\n",
              "      <td>98101.0</td>\n",
              "      <td>0659000220</td>\n",
              "      <td>...</td>\n",
              "      <td>9.504252e+05</td>\n",
              "      <td>3242851.0</td>\n",
              "      <td>51450.81641</td>\n",
              "      <td>5145082.0</td>\n",
              "      <td>False</td>\n",
              "      <td>NaN</td>\n",
              "      <td>Compliant</td>\n",
              "      <td>NaN</td>\n",
              "      <td>295.86</td>\n",
              "      <td>2.86</td>\n",
              "    </tr>\n",
              "    <tr>\n",
              "      <th>2</th>\n",
              "      <td>3</td>\n",
              "      <td>2016</td>\n",
              "      <td>NonResidential</td>\n",
              "      <td>Hotel</td>\n",
              "      <td>5673-The Westin Seattle</td>\n",
              "      <td>1900 5th Avenue</td>\n",
              "      <td>Seattle</td>\n",
              "      <td>WA</td>\n",
              "      <td>98101.0</td>\n",
              "      <td>0659000475</td>\n",
              "      <td>...</td>\n",
              "      <td>1.451544e+07</td>\n",
              "      <td>49526664.0</td>\n",
              "      <td>14938.00000</td>\n",
              "      <td>1493800.0</td>\n",
              "      <td>False</td>\n",
              "      <td>NaN</td>\n",
              "      <td>Compliant</td>\n",
              "      <td>NaN</td>\n",
              "      <td>2089.28</td>\n",
              "      <td>2.19</td>\n",
              "    </tr>\n",
              "    <tr>\n",
              "      <th>3</th>\n",
              "      <td>5</td>\n",
              "      <td>2016</td>\n",
              "      <td>NonResidential</td>\n",
              "      <td>Hotel</td>\n",
              "      <td>HOTEL MAX</td>\n",
              "      <td>620 STEWART ST</td>\n",
              "      <td>Seattle</td>\n",
              "      <td>WA</td>\n",
              "      <td>98101.0</td>\n",
              "      <td>0659000640</td>\n",
              "      <td>...</td>\n",
              "      <td>8.115253e+05</td>\n",
              "      <td>2768924.0</td>\n",
              "      <td>18112.13086</td>\n",
              "      <td>1811213.0</td>\n",
              "      <td>False</td>\n",
              "      <td>NaN</td>\n",
              "      <td>Compliant</td>\n",
              "      <td>NaN</td>\n",
              "      <td>286.43</td>\n",
              "      <td>4.67</td>\n",
              "    </tr>\n",
              "    <tr>\n",
              "      <th>4</th>\n",
              "      <td>8</td>\n",
              "      <td>2016</td>\n",
              "      <td>NonResidential</td>\n",
              "      <td>Hotel</td>\n",
              "      <td>WARWICK SEATTLE HOTEL (ID8)</td>\n",
              "      <td>401 LENORA ST</td>\n",
              "      <td>Seattle</td>\n",
              "      <td>WA</td>\n",
              "      <td>98121.0</td>\n",
              "      <td>0659000970</td>\n",
              "      <td>...</td>\n",
              "      <td>1.573449e+06</td>\n",
              "      <td>5368607.0</td>\n",
              "      <td>88039.98438</td>\n",
              "      <td>8803998.0</td>\n",
              "      <td>False</td>\n",
              "      <td>NaN</td>\n",
              "      <td>Compliant</td>\n",
              "      <td>NaN</td>\n",
              "      <td>505.01</td>\n",
              "      <td>2.88</td>\n",
              "    </tr>\n",
              "  </tbody>\n",
              "</table>\n",
              "<p>5 rows × 46 columns</p>\n",
              "</div>\n",
              "    <div class=\"colab-df-buttons\">\n",
              "\n",
              "  <div class=\"colab-df-container\">\n",
              "    <button class=\"colab-df-convert\" onclick=\"convertToInteractive('df-08134394-cec8-449a-b1a8-643bcf7f904e')\"\n",
              "            title=\"Convert this dataframe to an interactive table.\"\n",
              "            style=\"display:none;\">\n",
              "\n",
              "  <svg xmlns=\"http://www.w3.org/2000/svg\" height=\"24px\" viewBox=\"0 -960 960 960\">\n",
              "    <path d=\"M120-120v-720h720v720H120Zm60-500h600v-160H180v160Zm220 220h160v-160H400v160Zm0 220h160v-160H400v160ZM180-400h160v-160H180v160Zm440 0h160v-160H620v160ZM180-180h160v-160H180v160Zm440 0h160v-160H620v160Z\"/>\n",
              "  </svg>\n",
              "    </button>\n",
              "\n",
              "  <style>\n",
              "    .colab-df-container {\n",
              "      display:flex;\n",
              "      gap: 12px;\n",
              "    }\n",
              "\n",
              "    .colab-df-convert {\n",
              "      background-color: #E8F0FE;\n",
              "      border: none;\n",
              "      border-radius: 50%;\n",
              "      cursor: pointer;\n",
              "      display: none;\n",
              "      fill: #1967D2;\n",
              "      height: 32px;\n",
              "      padding: 0 0 0 0;\n",
              "      width: 32px;\n",
              "    }\n",
              "\n",
              "    .colab-df-convert:hover {\n",
              "      background-color: #E2EBFA;\n",
              "      box-shadow: 0px 1px 2px rgba(60, 64, 67, 0.3), 0px 1px 3px 1px rgba(60, 64, 67, 0.15);\n",
              "      fill: #174EA6;\n",
              "    }\n",
              "\n",
              "    .colab-df-buttons div {\n",
              "      margin-bottom: 4px;\n",
              "    }\n",
              "\n",
              "    [theme=dark] .colab-df-convert {\n",
              "      background-color: #3B4455;\n",
              "      fill: #D2E3FC;\n",
              "    }\n",
              "\n",
              "    [theme=dark] .colab-df-convert:hover {\n",
              "      background-color: #434B5C;\n",
              "      box-shadow: 0px 1px 3px 1px rgba(0, 0, 0, 0.15);\n",
              "      filter: drop-shadow(0px 1px 2px rgba(0, 0, 0, 0.3));\n",
              "      fill: #FFFFFF;\n",
              "    }\n",
              "  </style>\n",
              "\n",
              "    <script>\n",
              "      const buttonEl =\n",
              "        document.querySelector('#df-08134394-cec8-449a-b1a8-643bcf7f904e button.colab-df-convert');\n",
              "      buttonEl.style.display =\n",
              "        google.colab.kernel.accessAllowed ? 'block' : 'none';\n",
              "\n",
              "      async function convertToInteractive(key) {\n",
              "        const element = document.querySelector('#df-08134394-cec8-449a-b1a8-643bcf7f904e');\n",
              "        const dataTable =\n",
              "          await google.colab.kernel.invokeFunction('convertToInteractive',\n",
              "                                                    [key], {});\n",
              "        if (!dataTable) return;\n",
              "\n",
              "        const docLinkHtml = 'Like what you see? Visit the ' +\n",
              "          '<a target=\"_blank\" href=https://colab.research.google.com/notebooks/data_table.ipynb>data table notebook</a>'\n",
              "          + ' to learn more about interactive tables.';\n",
              "        element.innerHTML = '';\n",
              "        dataTable['output_type'] = 'display_data';\n",
              "        await google.colab.output.renderOutput(dataTable, element);\n",
              "        const docLink = document.createElement('div');\n",
              "        docLink.innerHTML = docLinkHtml;\n",
              "        element.appendChild(docLink);\n",
              "      }\n",
              "    </script>\n",
              "  </div>\n",
              "\n",
              "\n",
              "    <div id=\"df-12609815-f2d1-4d08-8ea0-84d15dd08f43\">\n",
              "      <button class=\"colab-df-quickchart\" onclick=\"quickchart('df-12609815-f2d1-4d08-8ea0-84d15dd08f43')\"\n",
              "                title=\"Suggest charts\"\n",
              "                style=\"display:none;\">\n",
              "\n",
              "<svg xmlns=\"http://www.w3.org/2000/svg\" height=\"24px\"viewBox=\"0 0 24 24\"\n",
              "     width=\"24px\">\n",
              "    <g>\n",
              "        <path d=\"M19 3H5c-1.1 0-2 .9-2 2v14c0 1.1.9 2 2 2h14c1.1 0 2-.9 2-2V5c0-1.1-.9-2-2-2zM9 17H7v-7h2v7zm4 0h-2V7h2v10zm4 0h-2v-4h2v4z\"/>\n",
              "    </g>\n",
              "</svg>\n",
              "      </button>\n",
              "\n",
              "<style>\n",
              "  .colab-df-quickchart {\n",
              "      --bg-color: #E8F0FE;\n",
              "      --fill-color: #1967D2;\n",
              "      --hover-bg-color: #E2EBFA;\n",
              "      --hover-fill-color: #174EA6;\n",
              "      --disabled-fill-color: #AAA;\n",
              "      --disabled-bg-color: #DDD;\n",
              "  }\n",
              "\n",
              "  [theme=dark] .colab-df-quickchart {\n",
              "      --bg-color: #3B4455;\n",
              "      --fill-color: #D2E3FC;\n",
              "      --hover-bg-color: #434B5C;\n",
              "      --hover-fill-color: #FFFFFF;\n",
              "      --disabled-bg-color: #3B4455;\n",
              "      --disabled-fill-color: #666;\n",
              "  }\n",
              "\n",
              "  .colab-df-quickchart {\n",
              "    background-color: var(--bg-color);\n",
              "    border: none;\n",
              "    border-radius: 50%;\n",
              "    cursor: pointer;\n",
              "    display: none;\n",
              "    fill: var(--fill-color);\n",
              "    height: 32px;\n",
              "    padding: 0;\n",
              "    width: 32px;\n",
              "  }\n",
              "\n",
              "  .colab-df-quickchart:hover {\n",
              "    background-color: var(--hover-bg-color);\n",
              "    box-shadow: 0 1px 2px rgba(60, 64, 67, 0.3), 0 1px 3px 1px rgba(60, 64, 67, 0.15);\n",
              "    fill: var(--button-hover-fill-color);\n",
              "  }\n",
              "\n",
              "  .colab-df-quickchart-complete:disabled,\n",
              "  .colab-df-quickchart-complete:disabled:hover {\n",
              "    background-color: var(--disabled-bg-color);\n",
              "    fill: var(--disabled-fill-color);\n",
              "    box-shadow: none;\n",
              "  }\n",
              "\n",
              "  .colab-df-spinner {\n",
              "    border: 2px solid var(--fill-color);\n",
              "    border-color: transparent;\n",
              "    border-bottom-color: var(--fill-color);\n",
              "    animation:\n",
              "      spin 1s steps(1) infinite;\n",
              "  }\n",
              "\n",
              "  @keyframes spin {\n",
              "    0% {\n",
              "      border-color: transparent;\n",
              "      border-bottom-color: var(--fill-color);\n",
              "      border-left-color: var(--fill-color);\n",
              "    }\n",
              "    20% {\n",
              "      border-color: transparent;\n",
              "      border-left-color: var(--fill-color);\n",
              "      border-top-color: var(--fill-color);\n",
              "    }\n",
              "    30% {\n",
              "      border-color: transparent;\n",
              "      border-left-color: var(--fill-color);\n",
              "      border-top-color: var(--fill-color);\n",
              "      border-right-color: var(--fill-color);\n",
              "    }\n",
              "    40% {\n",
              "      border-color: transparent;\n",
              "      border-right-color: var(--fill-color);\n",
              "      border-top-color: var(--fill-color);\n",
              "    }\n",
              "    60% {\n",
              "      border-color: transparent;\n",
              "      border-right-color: var(--fill-color);\n",
              "    }\n",
              "    80% {\n",
              "      border-color: transparent;\n",
              "      border-right-color: var(--fill-color);\n",
              "      border-bottom-color: var(--fill-color);\n",
              "    }\n",
              "    90% {\n",
              "      border-color: transparent;\n",
              "      border-bottom-color: var(--fill-color);\n",
              "    }\n",
              "  }\n",
              "</style>\n",
              "\n",
              "      <script>\n",
              "        async function quickchart(key) {\n",
              "          const quickchartButtonEl =\n",
              "            document.querySelector('#' + key + ' button');\n",
              "          quickchartButtonEl.disabled = true;  // To prevent multiple clicks.\n",
              "          quickchartButtonEl.classList.add('colab-df-spinner');\n",
              "          try {\n",
              "            const charts = await google.colab.kernel.invokeFunction(\n",
              "                'suggestCharts', [key], {});\n",
              "          } catch (error) {\n",
              "            console.error('Error during call to suggestCharts:', error);\n",
              "          }\n",
              "          quickchartButtonEl.classList.remove('colab-df-spinner');\n",
              "          quickchartButtonEl.classList.add('colab-df-quickchart-complete');\n",
              "        }\n",
              "        (() => {\n",
              "          let quickchartButtonEl =\n",
              "            document.querySelector('#df-12609815-f2d1-4d08-8ea0-84d15dd08f43 button');\n",
              "          quickchartButtonEl.style.display =\n",
              "            google.colab.kernel.accessAllowed ? 'block' : 'none';\n",
              "        })();\n",
              "      </script>\n",
              "    </div>\n",
              "\n",
              "    </div>\n",
              "  </div>\n"
            ],
            "application/vnd.google.colaboratory.intrinsic+json": {
              "type": "dataframe",
              "variable_name": "building_consumption"
            }
          },
          "metadata": {},
          "execution_count": 6
        }
      ],
      "source": [
        "# On regarde comment un batiment est défini dans ce jeu de données\n",
        "building_consumption.head()"
      ]
    },
    {
      "cell_type": "code",
      "execution_count": 8,
      "metadata": {
        "colab": {
          "base_uri": "https://localhost:8080/"
        },
        "id": "0ujLm_OZJ_q8",
        "outputId": "67cd6cff-6bdd-463c-e2e5-98afed2bb516"
      },
      "outputs": [
        {
          "output_type": "stream",
          "name": "stdout",
          "text": [
            "<class 'pandas.core.frame.DataFrame'>\n",
            "RangeIndex: 3376 entries, 0 to 3375\n",
            "Data columns (total 46 columns):\n",
            " #   Column                           Non-Null Count  Dtype  \n",
            "---  ------                           --------------  -----  \n",
            " 0   OSEBuildingID                    3376 non-null   int64  \n",
            " 1   DataYear                         3376 non-null   int64  \n",
            " 2   BuildingType                     3376 non-null   object \n",
            " 3   PrimaryPropertyType              3376 non-null   object \n",
            " 4   PropertyName                     3376 non-null   object \n",
            " 5   Address                          3376 non-null   object \n",
            " 6   City                             3376 non-null   object \n",
            " 7   State                            3376 non-null   object \n",
            " 8   ZipCode                          3360 non-null   float64\n",
            " 9   TaxParcelIdentificationNumber    3376 non-null   object \n",
            " 10  CouncilDistrictCode              3376 non-null   int64  \n",
            " 11  Neighborhood                     3376 non-null   object \n",
            " 12  Latitude                         3376 non-null   float64\n",
            " 13  Longitude                        3376 non-null   float64\n",
            " 14  YearBuilt                        3376 non-null   int64  \n",
            " 15  NumberofBuildings                3368 non-null   float64\n",
            " 16  NumberofFloors                   3376 non-null   int64  \n",
            " 17  PropertyGFATotal                 3376 non-null   int64  \n",
            " 18  PropertyGFAParking               3376 non-null   int64  \n",
            " 19  PropertyGFABuilding(s)           3376 non-null   int64  \n",
            " 20  ListOfAllPropertyUseTypes        3367 non-null   object \n",
            " 21  LargestPropertyUseType           3356 non-null   object \n",
            " 22  LargestPropertyUseTypeGFA        3356 non-null   float64\n",
            " 23  SecondLargestPropertyUseType     1679 non-null   object \n",
            " 24  SecondLargestPropertyUseTypeGFA  1679 non-null   float64\n",
            " 25  ThirdLargestPropertyUseType      596 non-null    object \n",
            " 26  ThirdLargestPropertyUseTypeGFA   596 non-null    float64\n",
            " 27  YearsENERGYSTARCertified         119 non-null    object \n",
            " 28  ENERGYSTARScore                  2533 non-null   float64\n",
            " 29  SiteEUI(kBtu/sf)                 3369 non-null   float64\n",
            " 30  SiteEUIWN(kBtu/sf)               3370 non-null   float64\n",
            " 31  SourceEUI(kBtu/sf)               3367 non-null   float64\n",
            " 32  SourceEUIWN(kBtu/sf)             3367 non-null   float64\n",
            " 33  SiteEnergyUse(kBtu)              3371 non-null   float64\n",
            " 34  SiteEnergyUseWN(kBtu)            3370 non-null   float64\n",
            " 35  SteamUse(kBtu)                   3367 non-null   float64\n",
            " 36  Electricity(kWh)                 3367 non-null   float64\n",
            " 37  Electricity(kBtu)                3367 non-null   float64\n",
            " 38  NaturalGas(therms)               3367 non-null   float64\n",
            " 39  NaturalGas(kBtu)                 3367 non-null   float64\n",
            " 40  DefaultData                      3376 non-null   bool   \n",
            " 41  Comments                         0 non-null      float64\n",
            " 42  ComplianceStatus                 3376 non-null   object \n",
            " 43  Outlier                          32 non-null     object \n",
            " 44  TotalGHGEmissions                3367 non-null   float64\n",
            " 45  GHGEmissionsIntensity            3367 non-null   float64\n",
            "dtypes: bool(1), float64(22), int64(8), object(15)\n",
            "memory usage: 1.2+ MB\n"
          ]
        }
      ],
      "source": [
        "# On regarde le nombre de valeurs manquantes par colonne ainsi que leur type\n",
        "building_consumption.info(True)"
      ]
    },
    {
      "cell_type": "code",
      "source": [
        "building_consumption_bis=building_consumption.drop(columns=['OSEBuildingID','Address','ZipCode','PropertyName','TaxParcelIdentificationNumber','Neighborhood','ThirdLargestPropertyUseType','ThirdLargestPropertyUseTypeGFA','YearsENERGYSTARCertified','Electricity(kWh)','NaturalGas(therms)','Comments','SecondLargestPropertyUseType','SecondLargestPropertyUseTypeGFA','Latitude','Longitude','CouncilDistrictCode','ComplianceStatus','City','State'])\n",
        "building_consumption_bis.info(True)\n"
      ],
      "metadata": {
        "id": "M5c87de-RBwJ",
        "outputId": "16f0f382-0995-4903-becd-71eef77e0b3f",
        "colab": {
          "base_uri": "https://localhost:8080/"
        }
      },
      "execution_count": 63,
      "outputs": [
        {
          "output_type": "stream",
          "name": "stdout",
          "text": [
            "<class 'pandas.core.frame.DataFrame'>\n",
            "RangeIndex: 3376 entries, 0 to 3375\n",
            "Data columns (total 26 columns):\n",
            " #   Column                     Non-Null Count  Dtype  \n",
            "---  ------                     --------------  -----  \n",
            " 0   DataYear                   3376 non-null   int64  \n",
            " 1   BuildingType               3376 non-null   object \n",
            " 2   PrimaryPropertyType        3376 non-null   object \n",
            " 3   YearBuilt                  3376 non-null   int64  \n",
            " 4   NumberofBuildings          3368 non-null   float64\n",
            " 5   NumberofFloors             3376 non-null   int64  \n",
            " 6   PropertyGFATotal           3376 non-null   int64  \n",
            " 7   PropertyGFAParking         3376 non-null   int64  \n",
            " 8   PropertyGFABuilding(s)     3376 non-null   int64  \n",
            " 9   ListOfAllPropertyUseTypes  3367 non-null   object \n",
            " 10  LargestPropertyUseType     3356 non-null   object \n",
            " 11  LargestPropertyUseTypeGFA  3356 non-null   float64\n",
            " 12  ENERGYSTARScore            2533 non-null   float64\n",
            " 13  SiteEUI(kBtu/sf)           3369 non-null   float64\n",
            " 14  SiteEUIWN(kBtu/sf)         3370 non-null   float64\n",
            " 15  SourceEUI(kBtu/sf)         3367 non-null   float64\n",
            " 16  SourceEUIWN(kBtu/sf)       3367 non-null   float64\n",
            " 17  SiteEnergyUse(kBtu)        3371 non-null   float64\n",
            " 18  SiteEnergyUseWN(kBtu)      3370 non-null   float64\n",
            " 19  SteamUse(kBtu)             3367 non-null   float64\n",
            " 20  Electricity(kBtu)          3367 non-null   float64\n",
            " 21  NaturalGas(kBtu)           3367 non-null   float64\n",
            " 22  DefaultData                3376 non-null   bool   \n",
            " 23  Outlier                    32 non-null     object \n",
            " 24  TotalGHGEmissions          3367 non-null   float64\n",
            " 25  GHGEmissionsIntensity      3367 non-null   float64\n",
            "dtypes: bool(1), float64(14), int64(6), object(5)\n",
            "memory usage: 662.8+ KB\n"
          ]
        }
      ]
    },
    {
      "cell_type": "code",
      "source": [
        "print(building_consumption_bis.nunique())"
      ],
      "metadata": {
        "id": "iQodSIIdtMPa",
        "outputId": "46e9f4bb-635d-4902-b04f-ddc7f3ba0b6a",
        "colab": {
          "base_uri": "https://localhost:8080/"
        }
      },
      "execution_count": 36,
      "outputs": [
        {
          "output_type": "stream",
          "name": "stdout",
          "text": [
            "DataYear                        1\n",
            "BuildingType                    8\n",
            "PrimaryPropertyType            24\n",
            "YearBuilt                     113\n",
            "NumberofBuildings              17\n",
            "NumberofFloors                 50\n",
            "PropertyGFATotal             3195\n",
            "PropertyGFAParking            496\n",
            "PropertyGFABuilding(s)       3193\n",
            "ListOfAllPropertyUseTypes     466\n",
            "LargestPropertyUseType         56\n",
            "LargestPropertyUseTypeGFA    3122\n",
            "ENERGYSTARScore               100\n",
            "SiteEUI(kBtu/sf)             1085\n",
            "SiteEUIWN(kBtu/sf)           1105\n",
            "SourceEUI(kBtu/sf)           1648\n",
            "SourceEUIWN(kBtu/sf)         1694\n",
            "SiteEnergyUse(kBtu)          3354\n",
            "SiteEnergyUseWN(kBtu)        3341\n",
            "SteamUse(kBtu)                131\n",
            "Electricity(kBtu)            3351\n",
            "NaturalGas(kBtu)             2109\n",
            "DefaultData                     2\n",
            "Outlier                         2\n",
            "TotalGHGEmissions            2818\n",
            "GHGEmissionsIntensity         511\n",
            "dtype: int64\n"
          ]
        }
      ]
    },
    {
      "cell_type": "code",
      "source": [
        "building_consumption_bis=building_consumption_bis[building_consumption_bis[\"Outlier\"]!=\"True\"]"
      ],
      "metadata": {
        "id": "lCesw_CYzAO9"
      },
      "execution_count": 69,
      "outputs": []
    },
    {
      "cell_type": "code",
      "source": [
        "building_consumption_ter=building_consumption_bis[building_consumption_bis[\"TotalGHGEmissions\"]>5000]"
      ],
      "metadata": {
        "id": "Ayjin0CW1hGV"
      },
      "execution_count": 71,
      "outputs": []
    },
    {
      "cell_type": "code",
      "source": [
        "building_consumption_ter"
      ],
      "metadata": {
        "id": "SN3WjdBAt1Gm",
        "outputId": "10e5d5c3-32bb-4081-ef4f-7b073b0d588e",
        "colab": {
          "base_uri": "https://localhost:8080/",
          "height": 141
        }
      },
      "execution_count": 1,
      "outputs": [
        {
          "output_type": "error",
          "ename": "NameError",
          "evalue": "name 'building_consumption_ter' is not defined",
          "traceback": [
            "\u001b[0;31m---------------------------------------------------------------------------\u001b[0m",
            "\u001b[0;31mNameError\u001b[0m                                 Traceback (most recent call last)",
            "\u001b[0;32m/tmp/ipython-input-1-704718262.py\u001b[0m in \u001b[0;36m<cell line: 0>\u001b[0;34m()\u001b[0m\n\u001b[0;32m----> 1\u001b[0;31m \u001b[0mbuilding_consumption_ter\u001b[0m\u001b[0;34m\u001b[0m\u001b[0;34m\u001b[0m\u001b[0m\n\u001b[0m",
            "\u001b[0;31mNameError\u001b[0m: name 'building_consumption_ter' is not defined"
          ]
        }
      ]
    },
    {
      "cell_type": "code",
      "source": [
        "import seaborn as sns\n",
        "\n",
        "sns.scatterplot(data=building_consumption_ter, x='PropertyGFATotal', y='TotalGHGEmissions')\n",
        "plt.title(\"TotalGHGEmissions par Année de Constructions\")\n",
        "plt.show()"
      ],
      "metadata": {
        "id": "jZc7g0Ynxnum",
        "outputId": "1a7b9657-9354-47a6-8935-602aa7d0bfe6",
        "colab": {
          "base_uri": "https://localhost:8080/",
          "height": 211
        }
      },
      "execution_count": 3,
      "outputs": [
        {
          "output_type": "error",
          "ename": "NameError",
          "evalue": "name 'building_consumption_ter' is not defined",
          "traceback": [
            "\u001b[0;31m---------------------------------------------------------------------------\u001b[0m",
            "\u001b[0;31mNameError\u001b[0m                                 Traceback (most recent call last)",
            "\u001b[0;32m/tmp/ipython-input-3-2008064535.py\u001b[0m in \u001b[0;36m<cell line: 0>\u001b[0;34m()\u001b[0m\n\u001b[1;32m      1\u001b[0m \u001b[0;32mimport\u001b[0m \u001b[0mseaborn\u001b[0m \u001b[0;32mas\u001b[0m \u001b[0msns\u001b[0m\u001b[0;34m\u001b[0m\u001b[0;34m\u001b[0m\u001b[0m\n\u001b[1;32m      2\u001b[0m \u001b[0;34m\u001b[0m\u001b[0m\n\u001b[0;32m----> 3\u001b[0;31m \u001b[0msns\u001b[0m\u001b[0;34m.\u001b[0m\u001b[0mscatterplot\u001b[0m\u001b[0;34m(\u001b[0m\u001b[0mdata\u001b[0m\u001b[0;34m=\u001b[0m\u001b[0mbuilding_consumption_ter\u001b[0m\u001b[0;34m,\u001b[0m \u001b[0mx\u001b[0m\u001b[0;34m=\u001b[0m\u001b[0;34m'PropertyGFATotal'\u001b[0m\u001b[0;34m,\u001b[0m \u001b[0my\u001b[0m\u001b[0;34m=\u001b[0m\u001b[0;34m'TotalGHGEmissions'\u001b[0m\u001b[0;34m)\u001b[0m\u001b[0;34m\u001b[0m\u001b[0;34m\u001b[0m\u001b[0m\n\u001b[0m\u001b[1;32m      4\u001b[0m \u001b[0mplt\u001b[0m\u001b[0;34m.\u001b[0m\u001b[0mtitle\u001b[0m\u001b[0;34m(\u001b[0m\u001b[0;34m\"TotalGHGEmissions par par Année de Constructions\"\u001b[0m\u001b[0;34m)\u001b[0m\u001b[0;34m\u001b[0m\u001b[0;34m\u001b[0m\u001b[0m\n\u001b[1;32m      5\u001b[0m \u001b[0mplt\u001b[0m\u001b[0;34m.\u001b[0m\u001b[0mshow\u001b[0m\u001b[0;34m(\u001b[0m\u001b[0;34m)\u001b[0m\u001b[0;34m\u001b[0m\u001b[0;34m\u001b[0m\u001b[0m\n",
            "\u001b[0;31mNameError\u001b[0m: name 'building_consumption_ter' is not defined"
          ]
        }
      ]
    },
    {
      "cell_type": "code",
      "source": [
        "\n",
        "building_consumption_bis.groupby([\"YearBuilt\"\n",
        "\n",
        ",\"NumberofFloors\"])[\"TotalGHGEmissions\"].mean()"
      ],
      "metadata": {
        "id": "APE58i7MX30y",
        "outputId": "7f340877-8c03-4d35-d120-20cf3d7d691e",
        "colab": {
          "base_uri": "https://localhost:8080/",
          "height": 490
        }
      },
      "execution_count": 42,
      "outputs": [
        {
          "output_type": "execute_result",
          "data": {
            "text/plain": [
              "YearBuilt  NumberofFloors\n",
              "1900       0                 11140.560000\n",
              "           1                   163.627500\n",
              "           2                    64.080000\n",
              "           3                    53.582500\n",
              "           4                    40.527778\n",
              "                                 ...     \n",
              "2015       10                  214.190000\n",
              "           12                  202.120000\n",
              "           14                   50.320000\n",
              "           20                  103.370000\n",
              "           40                  395.260000\n",
              "Name: TotalGHGEmissions, Length: 897, dtype: float64"
            ],
            "text/html": [
              "<div>\n",
              "<style scoped>\n",
              "    .dataframe tbody tr th:only-of-type {\n",
              "        vertical-align: middle;\n",
              "    }\n",
              "\n",
              "    .dataframe tbody tr th {\n",
              "        vertical-align: top;\n",
              "    }\n",
              "\n",
              "    .dataframe thead th {\n",
              "        text-align: right;\n",
              "    }\n",
              "</style>\n",
              "<table border=\"1\" class=\"dataframe\">\n",
              "  <thead>\n",
              "    <tr style=\"text-align: right;\">\n",
              "      <th></th>\n",
              "      <th></th>\n",
              "      <th>TotalGHGEmissions</th>\n",
              "    </tr>\n",
              "    <tr>\n",
              "      <th>YearBuilt</th>\n",
              "      <th>NumberofFloors</th>\n",
              "      <th></th>\n",
              "    </tr>\n",
              "  </thead>\n",
              "  <tbody>\n",
              "    <tr>\n",
              "      <th rowspan=\"5\" valign=\"top\">1900</th>\n",
              "      <th>0</th>\n",
              "      <td>11140.560000</td>\n",
              "    </tr>\n",
              "    <tr>\n",
              "      <th>1</th>\n",
              "      <td>163.627500</td>\n",
              "    </tr>\n",
              "    <tr>\n",
              "      <th>2</th>\n",
              "      <td>64.080000</td>\n",
              "    </tr>\n",
              "    <tr>\n",
              "      <th>3</th>\n",
              "      <td>53.582500</td>\n",
              "    </tr>\n",
              "    <tr>\n",
              "      <th>4</th>\n",
              "      <td>40.527778</td>\n",
              "    </tr>\n",
              "    <tr>\n",
              "      <th>...</th>\n",
              "      <th>...</th>\n",
              "      <td>...</td>\n",
              "    </tr>\n",
              "    <tr>\n",
              "      <th rowspan=\"5\" valign=\"top\">2015</th>\n",
              "      <th>10</th>\n",
              "      <td>214.190000</td>\n",
              "    </tr>\n",
              "    <tr>\n",
              "      <th>12</th>\n",
              "      <td>202.120000</td>\n",
              "    </tr>\n",
              "    <tr>\n",
              "      <th>14</th>\n",
              "      <td>50.320000</td>\n",
              "    </tr>\n",
              "    <tr>\n",
              "      <th>20</th>\n",
              "      <td>103.370000</td>\n",
              "    </tr>\n",
              "    <tr>\n",
              "      <th>40</th>\n",
              "      <td>395.260000</td>\n",
              "    </tr>\n",
              "  </tbody>\n",
              "</table>\n",
              "<p>897 rows × 1 columns</p>\n",
              "</div><br><label><b>dtype:</b> float64</label>"
            ]
          },
          "metadata": {},
          "execution_count": 42
        }
      ]
    },
    {
      "cell_type": "markdown",
      "metadata": {
        "id": "GV11yZ-zJ_q9"
      },
      "source": [
        "#### TERMINER L'ANALYSE EXPLORATOIRE"
      ]
    },
    {
      "cell_type": "markdown",
      "metadata": {
        "id": "wmjh2J-PJ_q9"
      },
      "source": [
        "A réaliser :\n",
        "- Une analyse descriptive des données, y compris une explication du sens des colonnes gardées, des arguments derrière la suppression de lignes ou de colonnes, des statistiques descriptives et des visualisations pertinentes."
      ]
    },
    {
      "cell_type": "markdown",
      "metadata": {
        "id": "3-Pmm_u7J_q9"
      },
      "source": [
        "Qelques pistes d'analyse :"
      ]
    },
    {
      "cell_type": "markdown",
      "metadata": {
        "id": "Gx4-JrDZJ_q-"
      },
      "source": [
        "* Identifier les colonnes avec une majorité de valeurs manquantes ou constantes en utilisant la méthode value_counts() de Pandas\n",
        "* Mettre en evidence les différences entre les immeubles mono et multi-usages\n",
        "* Utiliser des pairplots et des boxplots pour faire ressortir les outliers ou des batiments avec des valeurs peu cohérentes d'un point de vue métier"
      ]
    },
    {
      "cell_type": "markdown",
      "metadata": {
        "id": "IlhUClm8J_q-"
      },
      "source": [
        "Pour vous inspirer, ou comprendre l'esprit recherché dans une analyse exploratoire, vous pouvez consulter ce notebook en ligne : https://www.kaggle.com/code/pmarcelino/comprehensive-data-exploration-with-python. Il ne s'agit pas d'un modèle à suivre à la lettre ni d'un template d'analyses attendues pour ce projet."
      ]
    },
    {
      "cell_type": "markdown",
      "metadata": {
        "id": "Dr_koAkUJ_q-"
      },
      "source": [
        "# Modélisation"
      ]
    },
    {
      "cell_type": "markdown",
      "metadata": {
        "id": "1E3PHs0wJ_q_"
      },
      "source": [
        "### Import des modules"
      ]
    },
    {
      "cell_type": "code",
      "execution_count": null,
      "metadata": {
        "id": "21lMKDUJJ_rA"
      },
      "outputs": [],
      "source": [
        "#Selection\n",
        "from sklearn.model_selection import (\n",
        "    train_test_split,\n",
        "    GridSearchCV,\n",
        "    cross_validate,\n",
        ")\n",
        "from sklearn.metrics import mean_squared_error, r2_score, mean_absolute_error\n",
        "from sklearn.inspection import permutation_importance\n",
        "\n",
        "#Preprocess\n",
        "from sklearn.compose import ColumnTransformer\n",
        "from sklearn.preprocessing import LabelEncoder, OneHotEncoder, StandardScaler\n",
        "\n",
        "#Modèles\n",
        "from sklearn.dummy import DummyRegressor\n",
        "from sklearn.linear_model import LinearRegression\n",
        "from sklearn.svm import SVR\n",
        "from sklearn.ensemble import RandomForestRegressor\n"
      ]
    },
    {
      "cell_type": "markdown",
      "metadata": {
        "id": "3lgmKF8wJ_rA"
      },
      "source": [
        "### Feature Engineering"
      ]
    },
    {
      "cell_type": "markdown",
      "metadata": {
        "id": "_-fzRz8LJ_rA"
      },
      "source": [
        "A réaliser : Enrichir le jeu de données actuel avec de nouvelles features issues de celles existantes."
      ]
    },
    {
      "cell_type": "markdown",
      "metadata": {
        "id": "rYsIO41aJ_rA"
      },
      "source": [
        "En règle générale : On utilise la méthode .apply() de Pandas pour créer une nouvelle colonne à partir d'une colonne existante. N'hésitez pas à regarder les exemples dans les chapitres de cours donnés en ressource"
      ]
    },
    {
      "cell_type": "code",
      "execution_count": null,
      "metadata": {
        "id": "egQx0uXOJ_rA"
      },
      "outputs": [],
      "source": [
        "# CODE FEATURE ENGINEERING"
      ]
    },
    {
      "cell_type": "markdown",
      "metadata": {
        "id": "4v9vsgE-J_rB"
      },
      "source": [
        "### Préparation des features pour la modélisation"
      ]
    },
    {
      "cell_type": "markdown",
      "metadata": {
        "id": "1JabqpGmJ_rB"
      },
      "source": [
        "A réaliser :\n",
        "* Si ce n'est pas déjà fait, supprimer toutes les colonnes peu pertinentes pour la modélisation.\n",
        "* Tracer la distribution de la cible pour vous familiariser avec l'ordre de grandeur. En cas d'outliers, mettez en place une démarche pour les supprimer.\n",
        "* Débarrassez-vous des features redondantes en utilisant une matrice de corrélation de Pearson. Pour cela, utiisez la méthode corr() de Pandas, couplé d'un graphique Heatmap de la librairie Seaborn\n",
        "* Réalisez différents graphiques pour comprendre le lien entre vos features et la target (boxplots, scatterplots, pairplot si votre nombre de features numériques n'est pas très élevé).\n",
        "*  Séparez votre jeu de données en un Pandas DataFrame X (ensemble de feautures) et Pandas Series y (votre target).\n",
        "* Si vous avez des features catégorielles, il faut les encoder pour que votre modèle fonctionne. Les deux méthodes d'encodage à connaitre sont le OneHotEncoder et le LabelEncoder"
      ]
    },
    {
      "cell_type": "code",
      "execution_count": null,
      "metadata": {
        "id": "nVvPbYbGJ_rB"
      },
      "outputs": [],
      "source": [
        "# CODE PREPARATION DES FEATURES"
      ]
    },
    {
      "cell_type": "markdown",
      "metadata": {
        "id": "EmTud1pLJ_rB"
      },
      "source": [
        "### Comparaison de différents modèles supervisés"
      ]
    },
    {
      "cell_type": "markdown",
      "metadata": {
        "id": "Qi37TxoFJ_rB"
      },
      "source": [
        "A réaliser :\n",
        "* Pour chaque algorithme que vous allez tester, vous devez :\n",
        "    * Réaliser au préalable une séparation en jeu d'apprentissage et jeu de test via une validation croisée.\n",
        "    * Si les features quantitatives que vous souhaitez utiliser ont des ordres de grandeur très différents les uns des autres, et que vous utilisez un algorithme de regression qui est sensible à cette différence, alors il faut réaliser un scaling (normalisation) de la donnée au préalable.\n",
        "    * Entrainer le modèle sur le jeu de Train\n",
        "    * Prédire la cible sur la donnée de test (nous appelons cette étape, l'inférence).\n",
        "    * Calculer les métriques de performance R2, MAE et RMSE sur le jeu de train et de test.\n",
        "    * Interpréter les résultats pour juger de la fiabilité de l'algorithme.\n",
        "* Vous pouvez choisir par exemple de tester un modèle linéaire, un modèle à base d'arbres et un modèle de type SVM\n",
        "* Déterminer le modèle le plus performant parmi ceux testés."
      ]
    },
    {
      "cell_type": "code",
      "execution_count": null,
      "metadata": {
        "id": "RYVBA5g6J_rB"
      },
      "outputs": [],
      "source": [
        "# CODE COMPARAISON DES MODELES"
      ]
    },
    {
      "cell_type": "markdown",
      "metadata": {
        "id": "Z3GxTnOUJ_rC"
      },
      "source": [
        "### Optimisation et interprétation du modèle"
      ]
    },
    {
      "cell_type": "markdown",
      "metadata": {
        "id": "3-vyg5HWJ_rC"
      },
      "source": [
        "A réaliser :\n",
        "* Reprennez le meilleur algorithme que vous avez sécurisé via l'étape précédente, et réalisez une GridSearch de petite taille sur au moins 3 hyperparamètres.\n",
        "* Si le meilleur modèle fait partie de la famille des modèles à arbres (RandomForest, GradientBoosting) alors utilisez la fonctionnalité feature importance pour identifier les features les plus impactantes sur la performance du modèle. Sinon, utilisez la méthode Permutation Importance de sklearn."
      ]
    },
    {
      "cell_type": "code",
      "execution_count": null,
      "metadata": {
        "id": "acfLkWsTJ_rC"
      },
      "outputs": [],
      "source": [
        "# CODE OPTIMISATION ET INTERPRETATION DU MODELE"
      ]
    }
  ],
  "metadata": {
    "kernelspec": {
      "display_name": "oc_sql",
      "language": "python",
      "name": "oc_sql"
    },
    "language_info": {
      "codemirror_mode": {
        "name": "ipython",
        "version": 3
      },
      "file_extension": ".py",
      "mimetype": "text/x-python",
      "name": "python",
      "nbconvert_exporter": "python",
      "pygments_lexer": "ipython3",
      "version": "3.11.5"
    },
    "colab": {
      "provenance": []
    }
  },
  "nbformat": 4,
  "nbformat_minor": 0
}